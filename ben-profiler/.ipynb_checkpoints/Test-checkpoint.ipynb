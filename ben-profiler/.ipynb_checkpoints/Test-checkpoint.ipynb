{
 "cells": [
  {
   "cell_type": "code",
   "execution_count": 3,
   "id": "9a8df2a8",
   "metadata": {},
   "outputs": [],
   "source": [
    "import os\n",
    "from tkinter import *\n",
    "\n",
    "#Screens class containing all the user interface elements \n",
    "class screens:      \n",
    "    \n",
    "    #First screen allows user to choose to analyse a single directory or multiple directories\n",
    "    def first_screen():\n",
    "        window=Tk()\n",
    "        running=True    \n",
    "\n",
    "        analysis_type=IntVar()\n",
    "        analysis_type.set(1)\n",
    "        \n",
    "        window.title('Evaluation Screen 1/3')\n",
    "        lbl=Label(window, text=\"Would you like to analyse multiple directories or just one?\", fg='black', font=(\"Helvetica\", 12))\n",
    "        lbl.place(x=60, y=10)\n",
    "\n",
    "        single_directory_choice=Radiobutton(window, text=\"Single Directory\", variable=analysis_type,value=1)\n",
    "        multiple_directory_choice=Radiobutton(window, text=\"Multiple Directories\", variable=analysis_type,value=2)\n",
    "        \n",
    "        single_directory_choice.place(x=100, y=50)\n",
    "        multiple_directory_choice.place(x=300,y=50)\n",
    "        \n",
    "        btn=Button(window, text=\"Next\", fg='black',font=(\"Helvetica\", 12),command=window.destroy)\n",
    "        btn.place(x=490, y=100)\n",
    "        window.geometry(\"550x150+300+40\")\n",
    "        window.mainloop()\n",
    "            \n",
    "        return analysis_type.get()\n",
    "    \n",
    "    #the second screen allows user to configure the analysis before running it\n",
    "    def second_screen(analysis_type):\n",
    "        if analysis_type == 1:\n",
    "            print('Single directory analysis')\n",
    "        elif analysis_type == 2:\n",
    "            print('Multiple directory analysis')\n",
    "        \n",
    "        \n",
    "         \n",
    "    \n",
    "    \n",
    "    \n",
    "\n",
    "\n",
    "    "
   ]
  },
  {
   "cell_type": "code",
   "execution_count": 4,
   "id": "e9702713",
   "metadata": {},
   "outputs": [
    {
     "name": "stdout",
     "output_type": "stream",
     "text": [
      "Multiple directory analysis\n"
     ]
    }
   ],
   "source": [
    "display = screens\n",
    "analysis_type=display.first_screen()\n",
    "analysis_config=display.second_screen(analysis_type)\n",
    "\n",
    "\n",
    "\n",
    "    \n",
    "    \n",
    "\n"
   ]
  },
  {
   "cell_type": "code",
   "execution_count": null,
   "id": "de3451f9",
   "metadata": {},
   "outputs": [],
   "source": []
  },
  {
   "cell_type": "code",
   "execution_count": null,
   "id": "ffbaeb2d",
   "metadata": {},
   "outputs": [],
   "source": []
  }
 ],
 "metadata": {
  "kernelspec": {
   "display_name": "Python 3",
   "language": "python",
   "name": "python3"
  },
  "language_info": {
   "codemirror_mode": {
    "name": "ipython",
    "version": 3
   },
   "file_extension": ".py",
   "mimetype": "text/x-python",
   "name": "python",
   "nbconvert_exporter": "python",
   "pygments_lexer": "ipython3",
   "version": "3.8.11"
  }
 },
 "nbformat": 4,
 "nbformat_minor": 5
}
